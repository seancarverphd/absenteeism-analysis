{
 "cells": [
  {
   "cell_type": "code",
   "execution_count": 185,
   "metadata": {},
   "outputs": [],
   "source": [
    "import numpy as np\n",
    "import pandas as pd\n",
    "import matplotlib.pyplot as plt\n",
    "%matplotlib inline"
   ]
  },
  {
   "cell_type": "code",
   "execution_count": 5,
   "metadata": {},
   "outputs": [
    {
     "data": {
      "text/html": [
       "<div>\n",
       "<style scoped>\n",
       "    .dataframe tbody tr th:only-of-type {\n",
       "        vertical-align: middle;\n",
       "    }\n",
       "\n",
       "    .dataframe tbody tr th {\n",
       "        vertical-align: top;\n",
       "    }\n",
       "\n",
       "    .dataframe thead th {\n",
       "        text-align: right;\n",
       "    }\n",
       "</style>\n",
       "<table border=\"1\" class=\"dataframe\">\n",
       "  <thead>\n",
       "    <tr style=\"text-align: right;\">\n",
       "      <th></th>\n",
       "      <th>ID</th>\n",
       "      <th>Reason for absence</th>\n",
       "      <th>Month of absence</th>\n",
       "      <th>Day of the week</th>\n",
       "      <th>Seasons</th>\n",
       "      <th>Transportation expense</th>\n",
       "      <th>Distance from Residence to Work</th>\n",
       "      <th>Service time</th>\n",
       "      <th>Age</th>\n",
       "      <th>Work load Average/day</th>\n",
       "      <th>...</th>\n",
       "      <th>Disciplinary failure</th>\n",
       "      <th>Education</th>\n",
       "      <th>Son</th>\n",
       "      <th>Social drinker</th>\n",
       "      <th>Social smoker</th>\n",
       "      <th>Pet</th>\n",
       "      <th>Weight</th>\n",
       "      <th>Height</th>\n",
       "      <th>Body mass index</th>\n",
       "      <th>Absenteeism time in hours</th>\n",
       "    </tr>\n",
       "  </thead>\n",
       "  <tbody>\n",
       "    <tr>\n",
       "      <th>0</th>\n",
       "      <td>11</td>\n",
       "      <td>26</td>\n",
       "      <td>7</td>\n",
       "      <td>3</td>\n",
       "      <td>1</td>\n",
       "      <td>289</td>\n",
       "      <td>36</td>\n",
       "      <td>13</td>\n",
       "      <td>33</td>\n",
       "      <td>239.554</td>\n",
       "      <td>...</td>\n",
       "      <td>0</td>\n",
       "      <td>1</td>\n",
       "      <td>2</td>\n",
       "      <td>1</td>\n",
       "      <td>0</td>\n",
       "      <td>1</td>\n",
       "      <td>90</td>\n",
       "      <td>172</td>\n",
       "      <td>30</td>\n",
       "      <td>4</td>\n",
       "    </tr>\n",
       "    <tr>\n",
       "      <th>1</th>\n",
       "      <td>36</td>\n",
       "      <td>0</td>\n",
       "      <td>7</td>\n",
       "      <td>3</td>\n",
       "      <td>1</td>\n",
       "      <td>118</td>\n",
       "      <td>13</td>\n",
       "      <td>18</td>\n",
       "      <td>50</td>\n",
       "      <td>239.554</td>\n",
       "      <td>...</td>\n",
       "      <td>1</td>\n",
       "      <td>1</td>\n",
       "      <td>1</td>\n",
       "      <td>1</td>\n",
       "      <td>0</td>\n",
       "      <td>0</td>\n",
       "      <td>98</td>\n",
       "      <td>178</td>\n",
       "      <td>31</td>\n",
       "      <td>0</td>\n",
       "    </tr>\n",
       "    <tr>\n",
       "      <th>2</th>\n",
       "      <td>3</td>\n",
       "      <td>23</td>\n",
       "      <td>7</td>\n",
       "      <td>4</td>\n",
       "      <td>1</td>\n",
       "      <td>179</td>\n",
       "      <td>51</td>\n",
       "      <td>18</td>\n",
       "      <td>38</td>\n",
       "      <td>239.554</td>\n",
       "      <td>...</td>\n",
       "      <td>0</td>\n",
       "      <td>1</td>\n",
       "      <td>0</td>\n",
       "      <td>1</td>\n",
       "      <td>0</td>\n",
       "      <td>0</td>\n",
       "      <td>89</td>\n",
       "      <td>170</td>\n",
       "      <td>31</td>\n",
       "      <td>2</td>\n",
       "    </tr>\n",
       "    <tr>\n",
       "      <th>3</th>\n",
       "      <td>7</td>\n",
       "      <td>7</td>\n",
       "      <td>7</td>\n",
       "      <td>5</td>\n",
       "      <td>1</td>\n",
       "      <td>279</td>\n",
       "      <td>5</td>\n",
       "      <td>14</td>\n",
       "      <td>39</td>\n",
       "      <td>239.554</td>\n",
       "      <td>...</td>\n",
       "      <td>0</td>\n",
       "      <td>1</td>\n",
       "      <td>2</td>\n",
       "      <td>1</td>\n",
       "      <td>1</td>\n",
       "      <td>0</td>\n",
       "      <td>68</td>\n",
       "      <td>168</td>\n",
       "      <td>24</td>\n",
       "      <td>4</td>\n",
       "    </tr>\n",
       "    <tr>\n",
       "      <th>4</th>\n",
       "      <td>11</td>\n",
       "      <td>23</td>\n",
       "      <td>7</td>\n",
       "      <td>5</td>\n",
       "      <td>1</td>\n",
       "      <td>289</td>\n",
       "      <td>36</td>\n",
       "      <td>13</td>\n",
       "      <td>33</td>\n",
       "      <td>239.554</td>\n",
       "      <td>...</td>\n",
       "      <td>0</td>\n",
       "      <td>1</td>\n",
       "      <td>2</td>\n",
       "      <td>1</td>\n",
       "      <td>0</td>\n",
       "      <td>1</td>\n",
       "      <td>90</td>\n",
       "      <td>172</td>\n",
       "      <td>30</td>\n",
       "      <td>2</td>\n",
       "    </tr>\n",
       "  </tbody>\n",
       "</table>\n",
       "<p>5 rows × 21 columns</p>\n",
       "</div>"
      ],
      "text/plain": [
       "   ID  Reason for absence  Month of absence  Day of the week  Seasons  \\\n",
       "0  11                  26                 7                3        1   \n",
       "1  36                   0                 7                3        1   \n",
       "2   3                  23                 7                4        1   \n",
       "3   7                   7                 7                5        1   \n",
       "4  11                  23                 7                5        1   \n",
       "\n",
       "   Transportation expense  Distance from Residence to Work  Service time  Age  \\\n",
       "0                     289                               36            13   33   \n",
       "1                     118                               13            18   50   \n",
       "2                     179                               51            18   38   \n",
       "3                     279                                5            14   39   \n",
       "4                     289                               36            13   33   \n",
       "\n",
       "   Work load Average/day   ...  Disciplinary failure  Education  Son  \\\n",
       "0                 239.554  ...                     0          1    2   \n",
       "1                 239.554  ...                     1          1    1   \n",
       "2                 239.554  ...                     0          1    0   \n",
       "3                 239.554  ...                     0          1    2   \n",
       "4                 239.554  ...                     0          1    2   \n",
       "\n",
       "   Social drinker  Social smoker  Pet  Weight  Height  Body mass index  \\\n",
       "0               1              0    1      90     172               30   \n",
       "1               1              0    0      98     178               31   \n",
       "2               1              0    0      89     170               31   \n",
       "3               1              1    0      68     168               24   \n",
       "4               1              0    1      90     172               30   \n",
       "\n",
       "   Absenteeism time in hours  \n",
       "0                          4  \n",
       "1                          0  \n",
       "2                          2  \n",
       "3                          4  \n",
       "4                          2  \n",
       "\n",
       "[5 rows x 21 columns]"
      ]
     },
     "execution_count": 5,
     "metadata": {},
     "output_type": "execute_result"
    }
   ],
   "source": [
    "df = pd.read_csv(\"data/raw/Absenteeism_at_work.csv\", sep=';')\n",
    "df.head()"
   ]
  },
  {
   "cell_type": "code",
   "execution_count": 6,
   "metadata": {},
   "outputs": [
    {
     "data": {
      "text/plain": [
       "Index(['ID', 'Reason for absence', 'Month of absence', 'Day of the week',\n",
       "       'Seasons', 'Transportation expense', 'Distance from Residence to Work',\n",
       "       'Service time', 'Age', 'Work load Average/day ', 'Hit target',\n",
       "       'Disciplinary failure', 'Education', 'Son', 'Social drinker',\n",
       "       'Social smoker', 'Pet', 'Weight', 'Height', 'Body mass index',\n",
       "       'Absenteeism time in hours'],\n",
       "      dtype='object')"
      ]
     },
     "execution_count": 6,
     "metadata": {},
     "output_type": "execute_result"
    }
   ],
   "source": [
    "df.columns"
   ]
  },
  {
   "cell_type": "code",
   "execution_count": 7,
   "metadata": {},
   "outputs": [
    {
     "name": "stdout",
     "output_type": "stream",
     "text": [
      "<class 'pandas.core.frame.DataFrame'>\n",
      "RangeIndex: 740 entries, 0 to 739\n",
      "Data columns (total 21 columns):\n",
      "ID                                 740 non-null int64\n",
      "Reason for absence                 740 non-null int64\n",
      "Month of absence                   740 non-null int64\n",
      "Day of the week                    740 non-null int64\n",
      "Seasons                            740 non-null int64\n",
      "Transportation expense             740 non-null int64\n",
      "Distance from Residence to Work    740 non-null int64\n",
      "Service time                       740 non-null int64\n",
      "Age                                740 non-null int64\n",
      "Work load Average/day              740 non-null float64\n",
      "Hit target                         740 non-null int64\n",
      "Disciplinary failure               740 non-null int64\n",
      "Education                          740 non-null int64\n",
      "Son                                740 non-null int64\n",
      "Social drinker                     740 non-null int64\n",
      "Social smoker                      740 non-null int64\n",
      "Pet                                740 non-null int64\n",
      "Weight                             740 non-null int64\n",
      "Height                             740 non-null int64\n",
      "Body mass index                    740 non-null int64\n",
      "Absenteeism time in hours          740 non-null int64\n",
      "dtypes: float64(1), int64(20)\n",
      "memory usage: 121.5 KB\n"
     ]
    }
   ],
   "source": [
    "df.info()"
   ]
  },
  {
   "cell_type": "markdown",
   "metadata": {},
   "source": [
    "What is hit target?  Documentation unhelpful.  May have to ignore this value.  Probably a percent, but percent of what?"
   ]
  },
  {
   "cell_type": "code",
   "execution_count": 8,
   "metadata": {},
   "outputs": [
    {
     "data": {
      "text/plain": [
       "93     105\n",
       "99     102\n",
       "97      89\n",
       "92      79\n",
       "96      75\n",
       "95      75\n",
       "98      66\n",
       "91      45\n",
       "94      34\n",
       "88      28\n",
       "81      19\n",
       "87      12\n",
       "100     11\n",
       "Name: Hit target, dtype: int64"
      ]
     },
     "execution_count": 8,
     "metadata": {},
     "output_type": "execute_result"
    }
   ],
   "source": [
    "df['Hit target'].value_counts()"
   ]
  },
  {
   "cell_type": "code",
   "execution_count": 16,
   "metadata": {},
   "outputs": [
    {
     "data": {
      "text/plain": [
       "2    161\n",
       "4    156\n",
       "3    154\n",
       "6    144\n",
       "5    125\n",
       "Name: Day of the week, dtype: int64"
      ]
     },
     "execution_count": 16,
     "metadata": {},
     "output_type": "execute_result"
    }
   ],
   "source": [
    "df['Day of the week'].value_counts()"
   ]
  },
  {
   "cell_type": "code",
   "execution_count": 14,
   "metadata": {},
   "outputs": [
    {
     "data": {
      "text/plain": [
       "8      208\n",
       "2      157\n",
       "3      112\n",
       "1       88\n",
       "4       60\n",
       "0       44\n",
       "16      19\n",
       "24      16\n",
       "40       7\n",
       "5        7\n",
       "32       6\n",
       "64       3\n",
       "80       3\n",
       "120      3\n",
       "112      2\n",
       "56       2\n",
       "48       1\n",
       "7        1\n",
       "104      1\n",
       "Name: Absenteeism time in hours, dtype: int64"
      ]
     },
     "execution_count": 14,
     "metadata": {},
     "output_type": "execute_result"
    }
   ],
   "source": [
    "df['Absenteeism time in hours'].value_counts()"
   ]
  },
  {
   "cell_type": "code",
   "execution_count": 11,
   "metadata": {},
   "outputs": [
    {
     "data": {
      "text/plain": [
       "740"
      ]
     },
     "execution_count": 11,
     "metadata": {},
     "output_type": "execute_result"
    }
   ],
   "source": [
    "len(df)"
   ]
  },
  {
   "cell_type": "code",
   "execution_count": 41,
   "metadata": {},
   "outputs": [
    {
     "data": {
      "text/html": [
       "<div>\n",
       "<style scoped>\n",
       "    .dataframe tbody tr th:only-of-type {\n",
       "        vertical-align: middle;\n",
       "    }\n",
       "\n",
       "    .dataframe tbody tr th {\n",
       "        vertical-align: top;\n",
       "    }\n",
       "\n",
       "    .dataframe thead th {\n",
       "        text-align: right;\n",
       "    }\n",
       "</style>\n",
       "<table border=\"1\" class=\"dataframe\">\n",
       "  <thead>\n",
       "    <tr style=\"text-align: right;\">\n",
       "      <th></th>\n",
       "      <th>Absenteeism time in hours</th>\n",
       "      <th>Day of the week</th>\n",
       "      <th>Hit target</th>\n",
       "    </tr>\n",
       "  </thead>\n",
       "  <tbody>\n",
       "    <tr>\n",
       "      <th>323</th>\n",
       "      <td>120</td>\n",
       "      <td>2</td>\n",
       "      <td>97</td>\n",
       "    </tr>\n",
       "    <tr>\n",
       "      <th>420</th>\n",
       "      <td>120</td>\n",
       "      <td>4</td>\n",
       "      <td>98</td>\n",
       "    </tr>\n",
       "    <tr>\n",
       "      <th>471</th>\n",
       "      <td>112</td>\n",
       "      <td>3</td>\n",
       "      <td>92</td>\n",
       "    </tr>\n",
       "    <tr>\n",
       "      <th>622</th>\n",
       "      <td>112</td>\n",
       "      <td>3</td>\n",
       "      <td>99</td>\n",
       "    </tr>\n",
       "    <tr>\n",
       "      <th>652</th>\n",
       "      <td>104</td>\n",
       "      <td>2</td>\n",
       "      <td>99</td>\n",
       "    </tr>\n",
       "    <tr>\n",
       "      <th>729</th>\n",
       "      <td>120</td>\n",
       "      <td>3</td>\n",
       "      <td>93</td>\n",
       "    </tr>\n",
       "  </tbody>\n",
       "</table>\n",
       "</div>"
      ],
      "text/plain": [
       "     Absenteeism time in hours  Day of the week  Hit target\n",
       "323                        120                2          97\n",
       "420                        120                4          98\n",
       "471                        112                3          92\n",
       "622                        112                3          99\n",
       "652                        104                2          99\n",
       "729                        120                3          93"
      ]
     },
     "execution_count": 41,
     "metadata": {},
     "output_type": "execute_result"
    }
   ],
   "source": [
    "df[df['Absenteeism time in hours']>100][['Absenteeism time in hours','Day of the week','Hit target']]\n",
    "#df['Son'].head()"
   ]
  },
  {
   "cell_type": "code",
   "execution_count": 34,
   "metadata": {},
   "outputs": [
    {
     "data": {
      "text/plain": [
       "RangeIndex(start=0, stop=740, step=1)"
      ]
     },
     "execution_count": 34,
     "metadata": {},
     "output_type": "execute_result"
    }
   ],
   "source": [
    "df.index"
   ]
  },
  {
   "cell_type": "code",
   "execution_count": 39,
   "metadata": {},
   "outputs": [
    {
     "data": {
      "text/plain": [
       "271"
      ]
     },
     "execution_count": 39,
     "metadata": {},
     "output_type": "execute_result"
    }
   ],
   "source": [
    "len(df[df['Absenteeism time in hours']>=8])"
   ]
  },
  {
   "cell_type": "code",
   "execution_count": 40,
   "metadata": {},
   "outputs": [
    {
     "data": {
      "text/plain": [
       "469"
      ]
     },
     "execution_count": 40,
     "metadata": {},
     "output_type": "execute_result"
    }
   ],
   "source": [
    "len(df[df['Absenteeism time in hours']<8])"
   ]
  },
  {
   "cell_type": "code",
   "execution_count": 42,
   "metadata": {},
   "outputs": [
    {
     "data": {
      "text/plain": [
       "23    149\n",
       "28    112\n",
       "27     69\n",
       "13     55\n",
       "0      43\n",
       "19     40\n",
       "22     38\n",
       "26     33\n",
       "25     31\n",
       "11     26\n",
       "10     25\n",
       "18     21\n",
       "14     19\n",
       "1      16\n",
       "7      15\n",
       "6       8\n",
       "12      8\n",
       "8       6\n",
       "21      6\n",
       "9       4\n",
       "5       3\n",
       "24      3\n",
       "16      3\n",
       "4       2\n",
       "15      2\n",
       "3       1\n",
       "2       1\n",
       "17      1\n",
       "Name: Reason for absence, dtype: int64"
      ]
     },
     "execution_count": 42,
     "metadata": {},
     "output_type": "execute_result"
    }
   ],
   "source": [
    "df['Reason for absence'].value_counts()"
   ]
  },
  {
   "cell_type": "code",
   "execution_count": 43,
   "metadata": {},
   "outputs": [
    {
     "data": {
      "text/plain": [
       "1    611\n",
       "3     79\n",
       "2     46\n",
       "4      4\n",
       "Name: Education, dtype: int64"
      ]
     },
     "execution_count": 43,
     "metadata": {},
     "output_type": "execute_result"
    }
   ],
   "source": [
    "df['Education'].value_counts()"
   ]
  },
  {
   "cell_type": "code",
   "execution_count": 47,
   "metadata": {},
   "outputs": [
    {
     "data": {
      "text/plain": [
       "36"
      ]
     },
     "execution_count": 47,
     "metadata": {},
     "output_type": "execute_result"
    }
   ],
   "source": [
    "df.ID.value_counts().count()"
   ]
  },
  {
   "cell_type": "code",
   "execution_count": 181,
   "metadata": {},
   "outputs": [
    {
     "data": {
      "text/plain": [
       "ID\n",
       "1                               25466352452533255233623\n",
       "2                                                526222\n",
       "3     4644622622334636455434433326526452435352256624...\n",
       "4                                                     3\n",
       "5                                   3545462223223235644\n",
       "6                                              52552253\n",
       "7                                                525435\n",
       "8                                                    34\n",
       "9                                              34433423\n",
       "10                             622264462332456332523324\n",
       "11             3523433443565354442562342265226623444423\n",
       "12                                              2246546\n",
       "13                                      424223333566422\n",
       "14                        24263523354522236223333243246\n",
       "15                5253525446653662332643255554644345455\n",
       "16                                                   44\n",
       "17                                 54325322236564663646\n",
       "18                                     4234323364636545\n",
       "19                                                  533\n",
       "20           623466626566666346266656663646646626666622\n",
       "21                                                  522\n",
       "22       5335255245443424456263252245546662666656464652\n",
       "23                                             44526345\n",
       "24                       664462362246255364653363333336\n",
       "25                                           5262623425\n",
       "26                                                55626\n",
       "27                                              3556344\n",
       "28    3464434446355364456332354642346246352444545343...\n",
       "29                                                26456\n",
       "30                                              4326324\n",
       "31                                                  234\n",
       "32                                                25455\n",
       "33                             464236664262246254323254\n",
       "34    2233333623234562345266224323342236333334352324...\n",
       "35                                                    6\n",
       "36                   3344544344555635532634524463523355\n",
       "Name: Day, dtype: object"
      ]
     },
     "execution_count": 181,
     "metadata": {},
     "output_type": "execute_result"
    }
   ],
   "source": [
    "df['Day'] = df['Day of the week'].astype(str)\n",
    "df.groupby(['ID'])['Day'].agg(''.join)"
   ]
  },
  {
   "cell_type": "code",
   "execution_count": 145,
   "metadata": {
    "scrolled": false
   },
   "outputs": [
    {
     "data": {
      "text/plain": [
       "ID\n",
       "1     [2, 5, 4, 6, 3]\n",
       "2           [5, 2, 6]\n",
       "3     [4, 6, 2, 3, 5]\n",
       "4                 [3]\n",
       "5     [3, 5, 4, 6, 2]\n",
       "6           [5, 2, 3]\n",
       "7        [5, 2, 4, 3]\n",
       "8              [3, 4]\n",
       "9           [3, 4, 2]\n",
       "10    [6, 2, 4, 3, 5]\n",
       "11    [3, 5, 2, 4, 6]\n",
       "12       [2, 4, 6, 5]\n",
       "13    [4, 2, 3, 5, 6]\n",
       "14    [2, 4, 6, 3, 5]\n",
       "15    [5, 2, 3, 4, 6]\n",
       "16                [4]\n",
       "17    [5, 4, 3, 2, 6]\n",
       "18    [4, 2, 3, 6, 5]\n",
       "19             [5, 3]\n",
       "20    [6, 2, 3, 4, 5]\n",
       "21             [5, 2]\n",
       "22    [5, 3, 2, 4, 6]\n",
       "23    [4, 5, 2, 6, 3]\n",
       "24    [6, 4, 2, 3, 5]\n",
       "25    [5, 2, 6, 3, 4]\n",
       "26          [5, 6, 2]\n",
       "27       [3, 5, 6, 4]\n",
       "28    [3, 4, 6, 5, 2]\n",
       "29       [2, 6, 4, 5]\n",
       "30       [4, 3, 2, 6]\n",
       "31          [2, 3, 4]\n",
       "32          [2, 5, 4]\n",
       "33    [4, 6, 2, 3, 5]\n",
       "34    [2, 3, 6, 4, 5]\n",
       "35                [6]\n",
       "36    [3, 4, 5, 6, 2]\n",
       "Name: Day of the week, dtype: object"
      ]
     },
     "execution_count": 145,
     "metadata": {},
     "output_type": "execute_result"
    }
   ],
   "source": [
    "df.groupby(['ID'])['Day of the week'].unique()"
   ]
  },
  {
   "cell_type": "code",
   "execution_count": 182,
   "metadata": {},
   "outputs": [
    {
     "data": {
      "text/plain": [
       "Index(['ID', 'Reason for absence', 'Month of absence', 'Day of the week',\n",
       "       'Seasons', 'Transportation expense', 'Distance from Residence to Work',\n",
       "       'Service time', 'Age', 'Work load Average/day ', 'Hit target',\n",
       "       'Disciplinary failure', 'Education', 'Son', 'Social drinker',\n",
       "       'Social smoker', 'Pet', 'Weight', 'Height', 'Body mass index',\n",
       "       'Absenteeism time in hours', 'Day'],\n",
       "      dtype='object')"
      ]
     },
     "execution_count": 182,
     "metadata": {},
     "output_type": "execute_result"
    }
   ],
   "source": [
    "df.columns"
   ]
  },
  {
   "cell_type": "code",
   "execution_count": 195,
   "metadata": {},
   "outputs": [],
   "source": [
    "AB_subset0 = ['Absenteeism time in hours', 'Distance from Residence to Work','Age',\n",
    "              'Education','Son','Body mass index','Pet','Social drinker', 'Social smoker']"
   ]
  },
  {
   "cell_type": "code",
   "execution_count": 196,
   "metadata": {},
   "outputs": [
    {
     "data": {
      "text/plain": [
       "<matplotlib.image.AxesImage at 0x7f16b108c470>"
      ]
     },
     "execution_count": 196,
     "metadata": {},
     "output_type": "execute_result"
    },
    {
     "data": {
      "image/png": "[encoded data removed]",
      "text/plain": [
       "<Figure size 288x288 with 1 Axes>"
      ]
     },
     "metadata": {
      "needs_background": "light"
     },
     "output_type": "display_data"
    }
   ],
   "source": [
    "plt.matshow(df[AB_subset0].corr())"
   ]
  },
  {
   "cell_type": "code",
   "execution_count": 197,
   "metadata": {},
   "outputs": [
    {
     "data": {
      "text/html": [
       "<div>\n",
       "<style scoped>\n",
       "    .dataframe tbody tr th:only-of-type {\n",
       "        vertical-align: middle;\n",
       "    }\n",
       "\n",
       "    .dataframe tbody tr th {\n",
       "        vertical-align: top;\n",
       "    }\n",
       "\n",
       "    .dataframe thead th {\n",
       "        text-align: right;\n",
       "    }\n",
       "</style>\n",
       "<table border=\"1\" class=\"dataframe\">\n",
       "  <thead>\n",
       "    <tr style=\"text-align: right;\">\n",
       "      <th></th>\n",
       "      <th>Absenteeism time in hours</th>\n",
       "      <th>Distance from Residence to Work</th>\n",
       "      <th>Age</th>\n",
       "      <th>Education</th>\n",
       "      <th>Son</th>\n",
       "      <th>Body mass index</th>\n",
       "      <th>Pet</th>\n",
       "      <th>Social drinker</th>\n",
       "      <th>Social smoker</th>\n",
       "    </tr>\n",
       "  </thead>\n",
       "  <tbody>\n",
       "    <tr>\n",
       "      <th>Absenteeism time in hours</th>\n",
       "      <td>1.000000</td>\n",
       "      <td>-0.088363</td>\n",
       "      <td>0.065760</td>\n",
       "      <td>-0.046235</td>\n",
       "      <td>0.113756</td>\n",
       "      <td>-0.049719</td>\n",
       "      <td>-0.028277</td>\n",
       "      <td>0.065067</td>\n",
       "      <td>-0.008936</td>\n",
       "    </tr>\n",
       "    <tr>\n",
       "      <th>Distance from Residence to Work</th>\n",
       "      <td>-0.088363</td>\n",
       "      <td>1.000000</td>\n",
       "      <td>-0.145886</td>\n",
       "      <td>-0.259605</td>\n",
       "      <td>0.054230</td>\n",
       "      <td>0.113772</td>\n",
       "      <td>0.205941</td>\n",
       "      <td>0.452196</td>\n",
       "      <td>-0.075369</td>\n",
       "    </tr>\n",
       "    <tr>\n",
       "      <th>Age</th>\n",
       "      <td>0.065760</td>\n",
       "      <td>-0.145886</td>\n",
       "      <td>1.000000</td>\n",
       "      <td>-0.221882</td>\n",
       "      <td>0.056984</td>\n",
       "      <td>0.470688</td>\n",
       "      <td>-0.231226</td>\n",
       "      <td>0.213183</td>\n",
       "      <td>0.121738</td>\n",
       "    </tr>\n",
       "    <tr>\n",
       "      <th>Education</th>\n",
       "      <td>-0.046235</td>\n",
       "      <td>-0.259605</td>\n",
       "      <td>-0.221882</td>\n",
       "      <td>1.000000</td>\n",
       "      <td>-0.188622</td>\n",
       "      <td>-0.366884</td>\n",
       "      <td>-0.053554</td>\n",
       "      <td>-0.420013</td>\n",
       "      <td>0.032727</td>\n",
       "    </tr>\n",
       "    <tr>\n",
       "      <th>Son</th>\n",
       "      <td>0.113756</td>\n",
       "      <td>0.054230</td>\n",
       "      <td>0.056984</td>\n",
       "      <td>-0.188622</td>\n",
       "      <td>1.000000</td>\n",
       "      <td>-0.144150</td>\n",
       "      <td>0.108917</td>\n",
       "      <td>0.206376</td>\n",
       "      <td>0.156088</td>\n",
       "    </tr>\n",
       "    <tr>\n",
       "      <th>Body mass index</th>\n",
       "      <td>-0.049719</td>\n",
       "      <td>0.113772</td>\n",
       "      <td>0.470688</td>\n",
       "      <td>-0.366884</td>\n",
       "      <td>-0.144150</td>\n",
       "      <td>1.000000</td>\n",
       "      <td>-0.076103</td>\n",
       "      <td>0.323978</td>\n",
       "      <td>-0.196006</td>\n",
       "    </tr>\n",
       "    <tr>\n",
       "      <th>Pet</th>\n",
       "      <td>-0.028277</td>\n",
       "      <td>0.205941</td>\n",
       "      <td>-0.231226</td>\n",
       "      <td>-0.053554</td>\n",
       "      <td>0.108917</td>\n",
       "      <td>-0.076103</td>\n",
       "      <td>1.000000</td>\n",
       "      <td>-0.122780</td>\n",
       "      <td>0.105379</td>\n",
       "    </tr>\n",
       "    <tr>\n",
       "      <th>Social drinker</th>\n",
       "      <td>0.065067</td>\n",
       "      <td>0.452196</td>\n",
       "      <td>0.213183</td>\n",
       "      <td>-0.420013</td>\n",
       "      <td>0.206376</td>\n",
       "      <td>0.323978</td>\n",
       "      <td>-0.122780</td>\n",
       "      <td>1.000000</td>\n",
       "      <td>-0.111678</td>\n",
       "    </tr>\n",
       "    <tr>\n",
       "      <th>Social smoker</th>\n",
       "      <td>-0.008936</td>\n",
       "      <td>-0.075369</td>\n",
       "      <td>0.121738</td>\n",
       "      <td>0.032727</td>\n",
       "      <td>0.156088</td>\n",
       "      <td>-0.196006</td>\n",
       "      <td>0.105379</td>\n",
       "      <td>-0.111678</td>\n",
       "      <td>1.000000</td>\n",
       "    </tr>\n",
       "  </tbody>\n",
       "</table>\n",
       "</div>"
      ],
      "text/plain": [
       "                                 Absenteeism time in hours  \\\n",
       "Absenteeism time in hours                         1.000000   \n",
       "Distance from Residence to Work                  -0.088363   \n",
       "Age                                               0.065760   \n",
       "Education                                        -0.046235   \n",
       "Son                                               0.113756   \n",
       "Body mass index                                  -0.049719   \n",
       "Pet                                              -0.028277   \n",
       "Social drinker                                    0.065067   \n",
       "Social smoker                                    -0.008936   \n",
       "\n",
       "                                 Distance from Residence to Work       Age  \\\n",
       "Absenteeism time in hours                              -0.088363  0.065760   \n",
       "Distance from Residence to Work                         1.000000 -0.145886   \n",
       "Age                                                    -0.145886  1.000000   \n",
       "Education                                              -0.259605 -0.221882   \n",
       "Son                                                     0.054230  0.056984   \n",
       "Body mass index                                         0.113772  0.470688   \n",
       "Pet                                                     0.205941 -0.231226   \n",
       "Social drinker                                          0.452196  0.213183   \n",
       "Social smoker                                          -0.075369  0.121738   \n",
       "\n",
       "                                 Education       Son  Body mass index  \\\n",
       "Absenteeism time in hours        -0.046235  0.113756        -0.049719   \n",
       "Distance from Residence to Work  -0.259605  0.054230         0.113772   \n",
       "Age                              -0.221882  0.056984         0.470688   \n",
       "Education                         1.000000 -0.188622        -0.366884   \n",
       "Son                              -0.188622  1.000000        -0.144150   \n",
       "Body mass index                  -0.366884 -0.144150         1.000000   \n",
       "Pet                              -0.053554  0.108917        -0.076103   \n",
       "Social drinker                   -0.420013  0.206376         0.323978   \n",
       "Social smoker                     0.032727  0.156088        -0.196006   \n",
       "\n",
       "                                      Pet  Social drinker  Social smoker  \n",
       "Absenteeism time in hours       -0.028277        0.065067      -0.008936  \n",
       "Distance from Residence to Work  0.205941        0.452196      -0.075369  \n",
       "Age                             -0.231226        0.213183       0.121738  \n",
       "Education                       -0.053554       -0.420013       0.032727  \n",
       "Son                              0.108917        0.206376       0.156088  \n",
       "Body mass index                 -0.076103        0.323978      -0.196006  \n",
       "Pet                              1.000000       -0.122780       0.105379  \n",
       "Social drinker                  -0.122780        1.000000      -0.111678  \n",
       "Social smoker                    0.105379       -0.111678       1.000000  "
      ]
     },
     "execution_count": 197,
     "metadata": {},
     "output_type": "execute_result"
    }
   ],
   "source": [
    "df[AB_subset0].corr()"
   ]
  },
  {
   "cell_type": "code",
   "execution_count": null,
   "metadata": {},
   "outputs": [],
   "source": []
  },
  {
   "cell_type": "code",
   "execution_count": null,
   "metadata": {},
   "outputs": [],
   "source": []
  }
 ],
 "metadata": {
  "kernelspec": {
   "display_name": "Python 3",
   "language": "python",
   "name": "python3"
  },
  "language_info": {
   "codemirror_mode": {
    "name": "ipython",
    "version": 3
   },
   "file_extension": ".py",
   "mimetype": "text/x-python",
   "name": "python",
   "nbconvert_exporter": "python",
   "pygments_lexer": "ipython3",
   "version": "3.7.3"
  }
 },
 "nbformat": 4,
 "nbformat_minor": 2
}
